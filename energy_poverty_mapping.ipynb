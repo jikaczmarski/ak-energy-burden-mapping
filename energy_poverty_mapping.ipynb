{
 "cells": [
  {
   "cell_type": "markdown",
   "metadata": {},
   "source": [
    "# 🗺️ Mapping Energy Poverty in Alaska\n",
    "\n",
    "In this notebook, I create a heatmap of energy cost burden across the state of Alaska. These estimates are at the Borough/Census level. Energy cost burden is defined as the ratio of expenditures on space heating and electricity to income."
   ]
  },
  {
   "cell_type": "markdown",
   "metadata": {},
   "source": [
    "## 📱 Step 1: Census Data\n",
    "\n",
    "In this section, I query the US Census API for median household income at the borough/census-area level."
   ]
  },
  {
   "cell_type": "code",
   "execution_count": 37,
   "metadata": {},
   "outputs": [],
   "source": [
    "# Import standard packages\n",
    "import os\n",
    "\n",
    "# Import third-party packages\n",
    "import httpx\n",
    "import polars as pl\n",
    "import geopandas as gpd\n",
    "\n",
    "# Import user packages\n",
    "from src.credentials import USCensusAPI"
   ]
  },
  {
   "cell_type": "code",
   "execution_count": 2,
   "metadata": {},
   "outputs": [],
   "source": [
    "# Define API Query\n",
    "\n",
    "## Host Name\n",
    "host_name = \"https://api.census.gov/data/\"\n",
    "\n",
    "## Dataset\n",
    "dataset = \"/acs/acs5\"\n",
    "\n",
    "## Connection\n",
    "g = \"?get=\"\n",
    "\n",
    "## Year\n",
    "year = \"2017\"\n",
    "\n",
    "## Variables of Interest (Name and median household income)\n",
    "var = \"NAME,B19013_001E\"\n",
    "\n",
    "## Geography Codes\n",
    "location = \"&for=county:*&in=state:02\"\n",
    "\n",
    "## API Key\n",
    "api_string = f\"{USCensusAPI.api_string}\"\n",
    "\n",
    "## Final Query URL\n",
    "query_url = f\"{host_name}{year}{dataset}{g}{var}{location}{api_string}\""
   ]
  },
  {
   "cell_type": "code",
   "execution_count": 46,
   "metadata": {},
   "outputs": [
    {
     "data": {
      "text/html": [
       "<div><style>\n",
       ".dataframe > thead > tr,\n",
       ".dataframe > tbody > tr {\n",
       "  text-align: right;\n",
       "  white-space: pre-wrap;\n",
       "}\n",
       "</style>\n",
       "<small>shape: (29, 4)</small><table border=\"1\" class=\"dataframe\"><thead><tr><th>Census County Name</th><th>Median Household Income</th><th>Year</th><th>FIPS</th></tr><tr><td>str</td><td>i64</td><td>i32</td><td>str</td></tr></thead><tbody><tr><td>&quot;Aleutians West Census Area, Al…</td><td>85192</td><td>2017</td><td>&quot;02016&quot;</td></tr><tr><td>&quot;Bristol Bay Borough, Alaska&quot;</td><td>79500</td><td>2017</td><td>&quot;02060&quot;</td></tr><tr><td>&quot;Kodiak Island Borough, Alaska&quot;</td><td>74167</td><td>2017</td><td>&quot;02150&quot;</td></tr><tr><td>&quot;Northwest Arctic Borough, Alas…</td><td>61533</td><td>2017</td><td>&quot;02188&quot;</td></tr><tr><td>&quot;Bethel Census Area, Alaska&quot;</td><td>53853</td><td>2017</td><td>&quot;02050&quot;</td></tr><tr><td>&hellip;</td><td>&hellip;</td><td>&hellip;</td><td>&hellip;</td></tr><tr><td>&quot;Skagway Municipality, Alaska&quot;</td><td>70673</td><td>2017</td><td>&quot;02230&quot;</td></tr><tr><td>&quot;Prince of Wales-Hyder Census A…</td><td>52114</td><td>2017</td><td>&quot;02198&quot;</td></tr><tr><td>&quot;Wrangell City and Borough, Ala…</td><td>56094</td><td>2017</td><td>&quot;02275&quot;</td></tr><tr><td>&quot;Petersburg Borough, Alaska&quot;</td><td>63490</td><td>2017</td><td>&quot;02195&quot;</td></tr><tr><td>&quot;Kusilvak Census Area, Alaska&quot;</td><td>36468</td><td>2017</td><td>&quot;02158&quot;</td></tr></tbody></table></div>"
      ],
      "text/plain": [
       "shape: (29, 4)\n",
       "┌─────────────────────────────────┬─────────────────────────┬──────┬───────┐\n",
       "│ Census County Name              ┆ Median Household Income ┆ Year ┆ FIPS  │\n",
       "│ ---                             ┆ ---                     ┆ ---  ┆ ---   │\n",
       "│ str                             ┆ i64                     ┆ i32  ┆ str   │\n",
       "╞═════════════════════════════════╪═════════════════════════╪══════╪═══════╡\n",
       "│ Aleutians West Census Area, Al… ┆ 85192                   ┆ 2017 ┆ 02016 │\n",
       "│ Bristol Bay Borough, Alaska     ┆ 79500                   ┆ 2017 ┆ 02060 │\n",
       "│ Kodiak Island Borough, Alaska   ┆ 74167                   ┆ 2017 ┆ 02150 │\n",
       "│ Northwest Arctic Borough, Alas… ┆ 61533                   ┆ 2017 ┆ 02188 │\n",
       "│ Bethel Census Area, Alaska      ┆ 53853                   ┆ 2017 ┆ 02050 │\n",
       "│ …                               ┆ …                       ┆ …    ┆ …     │\n",
       "│ Skagway Municipality, Alaska    ┆ 70673                   ┆ 2017 ┆ 02230 │\n",
       "│ Prince of Wales-Hyder Census A… ┆ 52114                   ┆ 2017 ┆ 02198 │\n",
       "│ Wrangell City and Borough, Ala… ┆ 56094                   ┆ 2017 ┆ 02275 │\n",
       "│ Petersburg Borough, Alaska      ┆ 63490                   ┆ 2017 ┆ 02195 │\n",
       "│ Kusilvak Census Area, Alaska    ┆ 36468                   ┆ 2017 ┆ 02158 │\n",
       "└─────────────────────────────────┴─────────────────────────┴──────┴───────┘"
      ]
     },
     "execution_count": 46,
     "metadata": {},
     "output_type": "execute_result"
    }
   ],
   "source": [
    "# Retrieve the data and format\n",
    "response = httpx.get(query_url)\n",
    "census_data = pl.DataFrame(response.json()).transpose()\n",
    "census_data = census_data.rename(census_data.head(1).to_dicts().pop()).slice(1)\n",
    "census_data = (\n",
    "    census_data.with_columns(\n",
    "        pl.lit(int(year)).alias(\"Year\"),\n",
    "        pl.col(\"B19013_001E\").cast(pl.Int64),\n",
    "        (pl.col(\"state\") + pl.col(\"county\")).alias(\"FIPS\")\n",
    "    )\n",
    "    .rename({\"B19013_001E\": \"Median Household Income\", \"NAME\": \"Census County Name\"})\n",
    "    .select(pl.col(\"*\").exclude([\"state\", \"county\"]))\n",
    ")\n",
    "census_data"
   ]
  },
  {
   "cell_type": "markdown",
   "metadata": {},
   "source": [
    "## 📑 Step 2: AHFC Data \n",
    "\n",
    "Here I load in the single family residence stats from the 2018 housing assessment. Specifically, they are from the bottom of this URL: https://www.ahfc.us/pros/energy/alaska-housing-assessment/2018-housing-assessment/census-area-energy-characteristics"
   ]
  },
  {
   "cell_type": "code",
   "execution_count": 47,
   "metadata": {},
   "outputs": [
    {
     "data": {
      "text/html": [
       "<div><style>\n",
       ".dataframe > thead > tr,\n",
       ".dataframe > tbody > tr {\n",
       "  text-align: right;\n",
       "  white-space: pre-wrap;\n",
       "}\n",
       "</style>\n",
       "<small>shape: (29, 7)</small><table border=\"1\" class=\"dataframe\"><thead><tr><th>Census Area</th><th>Space Heating Energy Use (MMBTU)</th><th>Total Energy Use (MMBTU)</th><th>Electricity Energy Use (MMBTU)</th><th>Ratio of Electricity to Total Energy Use</th><th>Annual Energy Costs with 2017 Prices</th><th>Census County Name</th></tr><tr><td>str</td><td>f64</td><td>f64</td><td>f64</td><td>f64</td><td>i64</td><td>str</td></tr></thead><tbody><tr><td>&quot;Aleutians East&quot;</td><td>98.4</td><td>144.1</td><td>45.7</td><td>0.317141</td><td>4285</td><td>&quot;Aleutians East Borough, Alaska&quot;</td></tr><tr><td>&quot;Aleutians West&quot;</td><td>102.1</td><td>148.2</td><td>46.1</td><td>0.311066</td><td>5603</td><td>&quot;Aleutians West Census Area, Al…</td></tr><tr><td>&quot;Anchorage&quot;</td><td>200.3</td><td>261.9</td><td>61.6</td><td>0.235204</td><td>3368</td><td>&quot;Anchorage Municipality, Alaska&quot;</td></tr><tr><td>&quot;Bethel Census Area&quot;</td><td>94.3</td><td>131.3</td><td>37.0</td><td>0.281797</td><td>4659</td><td>&quot;Bethel Census Area, Alaska&quot;</td></tr><tr><td>&quot;Bristol Bay Borough&quot;</td><td>140.7</td><td>185.6</td><td>44.9</td><td>0.241918</td><td>4104</td><td>&quot;Bristol Bay Borough, Alaska&quot;</td></tr><tr><td>&hellip;</td><td>&hellip;</td><td>&hellip;</td><td>&hellip;</td><td>&hellip;</td><td>&hellip;</td><td>&hellip;</td></tr><tr><td>&quot;Skagway Municipality&quot;</td><td>136.1</td><td>184.6</td><td>48.5</td><td>0.26273</td><td>4401</td><td>&quot;Skagway Municipality, Alaska&quot;</td></tr><tr><td>&quot;Valdez-Cordova&quot;</td><td>174.4</td><td>226.5</td><td>52.1</td><td>0.230022</td><td>5383</td><td>&quot;Valdez-Cordova Census Area, Al…</td></tr><tr><td>&quot;Wrangell Borough&quot;</td><td>160.0</td><td>205.6</td><td>45.6</td><td>0.22179</td><td>4512</td><td>&quot;Wrangell City and Borough, Ala…</td></tr><tr><td>&quot;Yakutat Borough&quot;</td><td>90.1</td><td>136.4</td><td>46.3</td><td>0.339443</td><td>4281</td><td>&quot;Yakutat City and Borough, Alas…</td></tr><tr><td>&quot;Yukon-Koyukuk&quot;</td><td>137.6</td><td>167.2</td><td>29.6</td><td>0.177033</td><td>4167</td><td>&quot;Yukon-Koyukuk Census Area, Ala…</td></tr></tbody></table></div>"
      ],
      "text/plain": [
       "shape: (29, 7)\n",
       "┌──────────────┬─────────────┬─────────────┬─────────────┬─────────────┬─────────────┬─────────────┐\n",
       "│ Census Area  ┆ Space       ┆ Total       ┆ Electricity ┆ Ratio of    ┆ Annual      ┆ Census      │\n",
       "│ ---          ┆ Heating     ┆ Energy Use  ┆ Energy Use  ┆ Electricity ┆ Energy      ┆ County Name │\n",
       "│ str          ┆ Energy Use  ┆ (MMBTU)     ┆ (MMBTU)     ┆ to Total …  ┆ Costs with  ┆ ---         │\n",
       "│              ┆ (MMBT…      ┆ ---         ┆ ---         ┆ ---         ┆ 2017 …      ┆ str         │\n",
       "│              ┆ ---         ┆ f64         ┆ f64         ┆ f64         ┆ ---         ┆             │\n",
       "│              ┆ f64         ┆             ┆             ┆             ┆ i64         ┆             │\n",
       "╞══════════════╪═════════════╪═════════════╪═════════════╪═════════════╪═════════════╪═════════════╡\n",
       "│ Aleutians    ┆ 98.4        ┆ 144.1       ┆ 45.7        ┆ 0.317141    ┆ 4285        ┆ Aleutians   │\n",
       "│ East         ┆             ┆             ┆             ┆             ┆             ┆ East        │\n",
       "│              ┆             ┆             ┆             ┆             ┆             ┆ Borough,    │\n",
       "│              ┆             ┆             ┆             ┆             ┆             ┆ Alaska      │\n",
       "│ Aleutians    ┆ 102.1       ┆ 148.2       ┆ 46.1        ┆ 0.311066    ┆ 5603        ┆ Aleutians   │\n",
       "│ West         ┆             ┆             ┆             ┆             ┆             ┆ West Census │\n",
       "│              ┆             ┆             ┆             ┆             ┆             ┆ Area, Al…   │\n",
       "│ Anchorage    ┆ 200.3       ┆ 261.9       ┆ 61.6        ┆ 0.235204    ┆ 3368        ┆ Anchorage   │\n",
       "│              ┆             ┆             ┆             ┆             ┆             ┆ Municipalit │\n",
       "│              ┆             ┆             ┆             ┆             ┆             ┆ y, Alaska   │\n",
       "│ Bethel       ┆ 94.3        ┆ 131.3       ┆ 37.0        ┆ 0.281797    ┆ 4659        ┆ Bethel      │\n",
       "│ Census Area  ┆             ┆             ┆             ┆             ┆             ┆ Census      │\n",
       "│              ┆             ┆             ┆             ┆             ┆             ┆ Area,       │\n",
       "│              ┆             ┆             ┆             ┆             ┆             ┆ Alaska      │\n",
       "│ Bristol Bay  ┆ 140.7       ┆ 185.6       ┆ 44.9        ┆ 0.241918    ┆ 4104        ┆ Bristol Bay │\n",
       "│ Borough      ┆             ┆             ┆             ┆             ┆             ┆ Borough,    │\n",
       "│              ┆             ┆             ┆             ┆             ┆             ┆ Alaska      │\n",
       "│ …            ┆ …           ┆ …           ┆ …           ┆ …           ┆ …           ┆ …           │\n",
       "│ Skagway      ┆ 136.1       ┆ 184.6       ┆ 48.5        ┆ 0.26273     ┆ 4401        ┆ Skagway Mun │\n",
       "│ Municipality ┆             ┆             ┆             ┆             ┆             ┆ icipality,  │\n",
       "│              ┆             ┆             ┆             ┆             ┆             ┆ Alaska      │\n",
       "│ Valdez-Cordo ┆ 174.4       ┆ 226.5       ┆ 52.1        ┆ 0.230022    ┆ 5383        ┆ Valdez-Cord │\n",
       "│ va           ┆             ┆             ┆             ┆             ┆             ┆ ova Census  │\n",
       "│              ┆             ┆             ┆             ┆             ┆             ┆ Area, Al…   │\n",
       "│ Wrangell     ┆ 160.0       ┆ 205.6       ┆ 45.6        ┆ 0.22179     ┆ 4512        ┆ Wrangell    │\n",
       "│ Borough      ┆             ┆             ┆             ┆             ┆             ┆ City and    │\n",
       "│              ┆             ┆             ┆             ┆             ┆             ┆ Borough,    │\n",
       "│              ┆             ┆             ┆             ┆             ┆             ┆ Ala…        │\n",
       "│ Yakutat      ┆ 90.1        ┆ 136.4       ┆ 46.3        ┆ 0.339443    ┆ 4281        ┆ Yakutat     │\n",
       "│ Borough      ┆             ┆             ┆             ┆             ┆             ┆ City and    │\n",
       "│              ┆             ┆             ┆             ┆             ┆             ┆ Borough,    │\n",
       "│              ┆             ┆             ┆             ┆             ┆             ┆ Alas…       │\n",
       "│ Yukon-Koyuku ┆ 137.6       ┆ 167.2       ┆ 29.6        ┆ 0.177033    ┆ 4167        ┆ Yukon-Koyuk │\n",
       "│ k            ┆             ┆             ┆             ┆             ┆             ┆ uk Census   │\n",
       "│              ┆             ┆             ┆             ┆             ┆             ┆ Area, Ala…  │\n",
       "└──────────────┴─────────────┴─────────────┴─────────────┴─────────────┴─────────────┴─────────────┘"
      ]
     },
     "execution_count": 47,
     "metadata": {},
     "output_type": "execute_result"
    }
   ],
   "source": [
    "# Load the AHFC 2018 Housing Assessment Single Family Residence Data\n",
    "ahfc = pl.read_excel(os.path.join(os.curdir,'data','derived','ahfc_2018_single_family_estimates.xlsx'))\n",
    "ahfc"
   ]
  },
  {
   "cell_type": "markdown",
   "metadata": {},
   "source": [
    "## 🕵️‍♂️ Step 3: Merge\n",
    "\n",
    "Here I merge the median household income from the census data to the AHFC data."
   ]
  },
  {
   "cell_type": "code",
   "execution_count": 48,
   "metadata": {},
   "outputs": [],
   "source": [
    "energy_burden = ahfc.join(\n",
    "    census_data,\n",
    "    on = \"Census County Name\",\n",
    "    how = \"left\"\n",
    ")"
   ]
  },
  {
   "cell_type": "code",
   "execution_count": 49,
   "metadata": {},
   "outputs": [
    {
     "data": {
      "text/html": [
       "<div><style>\n",
       ".dataframe > thead > tr,\n",
       ".dataframe > tbody > tr {\n",
       "  text-align: right;\n",
       "  white-space: pre-wrap;\n",
       "}\n",
       "</style>\n",
       "<small>shape: (5, 10)</small><table border=\"1\" class=\"dataframe\"><thead><tr><th>Census Area</th><th>Space Heating Energy Use (MMBTU)</th><th>Total Energy Use (MMBTU)</th><th>Electricity Energy Use (MMBTU)</th><th>Ratio of Electricity to Total Energy Use</th><th>Annual Energy Costs with 2017 Prices</th><th>Census County Name</th><th>Median Household Income</th><th>Year</th><th>FIPS</th></tr><tr><td>str</td><td>f64</td><td>f64</td><td>f64</td><td>f64</td><td>i64</td><td>str</td><td>i64</td><td>i32</td><td>str</td></tr></thead><tbody><tr><td>&quot;Aleutians East&quot;</td><td>98.4</td><td>144.1</td><td>45.7</td><td>0.317141</td><td>4285</td><td>&quot;Aleutians East Borough, Alaska&quot;</td><td>66607</td><td>2017</td><td>&quot;02013&quot;</td></tr><tr><td>&quot;Aleutians West&quot;</td><td>102.1</td><td>148.2</td><td>46.1</td><td>0.311066</td><td>5603</td><td>&quot;Aleutians West Census Area, Al…</td><td>85192</td><td>2017</td><td>&quot;02016&quot;</td></tr><tr><td>&quot;Anchorage&quot;</td><td>200.3</td><td>261.9</td><td>61.6</td><td>0.235204</td><td>3368</td><td>&quot;Anchorage Municipality, Alaska&quot;</td><td>82271</td><td>2017</td><td>&quot;02020&quot;</td></tr><tr><td>&quot;Bethel Census Area&quot;</td><td>94.3</td><td>131.3</td><td>37.0</td><td>0.281797</td><td>4659</td><td>&quot;Bethel Census Area, Alaska&quot;</td><td>53853</td><td>2017</td><td>&quot;02050&quot;</td></tr><tr><td>&quot;Bristol Bay Borough&quot;</td><td>140.7</td><td>185.6</td><td>44.9</td><td>0.241918</td><td>4104</td><td>&quot;Bristol Bay Borough, Alaska&quot;</td><td>79500</td><td>2017</td><td>&quot;02060&quot;</td></tr></tbody></table></div>"
      ],
      "text/plain": [
       "shape: (5, 10)\n",
       "┌─────────────┬─────────────┬────────────┬────────────┬───┬────────────┬────────────┬──────┬───────┐\n",
       "│ Census Area ┆ Space       ┆ Total      ┆ Electricit ┆ … ┆ Census     ┆ Median     ┆ Year ┆ FIPS  │\n",
       "│ ---         ┆ Heating     ┆ Energy Use ┆ y Energy   ┆   ┆ County     ┆ Household  ┆ ---  ┆ ---   │\n",
       "│ str         ┆ Energy Use  ┆ (MMBTU)    ┆ Use        ┆   ┆ Name       ┆ Income     ┆ i32  ┆ str   │\n",
       "│             ┆ (MMBT…      ┆ ---        ┆ (MMBTU)    ┆   ┆ ---        ┆ ---        ┆      ┆       │\n",
       "│             ┆ ---         ┆ f64        ┆ ---        ┆   ┆ str        ┆ i64        ┆      ┆       │\n",
       "│             ┆ f64         ┆            ┆ f64        ┆   ┆            ┆            ┆      ┆       │\n",
       "╞═════════════╪═════════════╪════════════╪════════════╪═══╪════════════╪════════════╪══════╪═══════╡\n",
       "│ Aleutians   ┆ 98.4        ┆ 144.1      ┆ 45.7       ┆ … ┆ Aleutians  ┆ 66607      ┆ 2017 ┆ 02013 │\n",
       "│ East        ┆             ┆            ┆            ┆   ┆ East       ┆            ┆      ┆       │\n",
       "│             ┆             ┆            ┆            ┆   ┆ Borough,   ┆            ┆      ┆       │\n",
       "│             ┆             ┆            ┆            ┆   ┆ Alaska     ┆            ┆      ┆       │\n",
       "│ Aleutians   ┆ 102.1       ┆ 148.2      ┆ 46.1       ┆ … ┆ Aleutians  ┆ 85192      ┆ 2017 ┆ 02016 │\n",
       "│ West        ┆             ┆            ┆            ┆   ┆ West       ┆            ┆      ┆       │\n",
       "│             ┆             ┆            ┆            ┆   ┆ Census     ┆            ┆      ┆       │\n",
       "│             ┆             ┆            ┆            ┆   ┆ Area, Al…  ┆            ┆      ┆       │\n",
       "│ Anchorage   ┆ 200.3       ┆ 261.9      ┆ 61.6       ┆ … ┆ Anchorage  ┆ 82271      ┆ 2017 ┆ 02020 │\n",
       "│             ┆             ┆            ┆            ┆   ┆ Municipali ┆            ┆      ┆       │\n",
       "│             ┆             ┆            ┆            ┆   ┆ ty, Alaska ┆            ┆      ┆       │\n",
       "│ Bethel      ┆ 94.3        ┆ 131.3      ┆ 37.0       ┆ … ┆ Bethel     ┆ 53853      ┆ 2017 ┆ 02050 │\n",
       "│ Census Area ┆             ┆            ┆            ┆   ┆ Census     ┆            ┆      ┆       │\n",
       "│             ┆             ┆            ┆            ┆   ┆ Area,      ┆            ┆      ┆       │\n",
       "│             ┆             ┆            ┆            ┆   ┆ Alaska     ┆            ┆      ┆       │\n",
       "│ Bristol Bay ┆ 140.7       ┆ 185.6      ┆ 44.9       ┆ … ┆ Bristol    ┆ 79500      ┆ 2017 ┆ 02060 │\n",
       "│ Borough     ┆             ┆            ┆            ┆   ┆ Bay        ┆            ┆      ┆       │\n",
       "│             ┆             ┆            ┆            ┆   ┆ Borough,   ┆            ┆      ┆       │\n",
       "│             ┆             ┆            ┆            ┆   ┆ Alaska     ┆            ┆      ┆       │\n",
       "└─────────────┴─────────────┴────────────┴────────────┴───┴────────────┴────────────┴──────┴───────┘"
      ]
     },
     "execution_count": 49,
     "metadata": {},
     "output_type": "execute_result"
    }
   ],
   "source": [
    "energy_burden.head(5)"
   ]
  },
  {
   "cell_type": "markdown",
   "metadata": {},
   "source": [
    "## 💻 Step 4: Energy Burden\n",
    "\n",
    "Here I divide annual energy expenditures by the median household income."
   ]
  },
  {
   "cell_type": "code",
   "execution_count": 50,
   "metadata": {},
   "outputs": [],
   "source": [
    "energy_burden = energy_burden.with_columns(\n",
    "    (\n",
    "        pl.col(\"Annual Energy Costs with 2017 Prices\") / pl.col(\"Median Household Income\")\n",
    "    ).alias(\"Energy Burden\")\n",
    ")"
   ]
  },
  {
   "cell_type": "markdown",
   "metadata": {},
   "source": [
    "## 🌐 Step 5: Mapping\n",
    "\n",
    "In this step, I merge in the massaged data into a GeoJSON produced by the state to generate a heatmap of energy burden ($2017)."
   ]
  },
  {
   "cell_type": "code",
   "execution_count": 51,
   "metadata": {},
   "outputs": [],
   "source": [
    "map = gpd.read_file(os.path.join(os.curdir,'data','raw','ak_borough_census_areas.geojson'))"
   ]
  },
  {
   "cell_type": "code",
   "execution_count": 53,
   "metadata": {},
   "outputs": [],
   "source": [
    "map = map.merge(energy_burden.to_pandas(), on = \"FIPS\")"
   ]
  },
  {
   "cell_type": "code",
   "execution_count": 58,
   "metadata": {},
   "outputs": [
    {
     "data": {
      "text/plain": [
       "<Axes: >"
      ]
     },
     "execution_count": 58,
     "metadata": {},
     "output_type": "execute_result"
    },
    {
     "data": {
      "image/png": "[encoded data removed]",
      "text/plain": [
       "<Figure size 640x480 with 2 Axes>"
      ]
     },
     "metadata": {},
     "output_type": "display_data"
    }
   ],
   "source": [
    "map.plot(aspect=1, column = \"Energy Burden\", legend=True, cmap='OrRd')"
   ]
  },
  {
   "cell_type": "code",
   "execution_count": null,
   "metadata": {},
   "outputs": [],
   "source": []
  }
 ],
 "metadata": {
  "kernelspec": {
   "display_name": ".venv",
   "language": "python",
   "name": "python3"
  },
  "language_info": {
   "codemirror_mode": {
    "name": "ipython",
    "version": 3
   },
   "file_extension": ".py",
   "mimetype": "text/x-python",
   "name": "python",
   "nbconvert_exporter": "python",
   "pygments_lexer": "ipython3",
   "version": "3.12.5"
  }
 },
 "nbformat": 4,
 "nbformat_minor": 2
}
